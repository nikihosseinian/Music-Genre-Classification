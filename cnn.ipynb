{
  "cells": [
    {
      "cell_type": "code",
      "execution_count": 2,
      "metadata": {
        "id": "aaUgDcM-waRK"
      },
      "outputs": [],
      "source": [
        "import os\n",
        "import cv2\n",
        "import numpy as np\n",
        "import pandas as pd\n",
        "import tensorflow as tf\n",
        "import keras_tuner as kt\n",
        "import matplotlib.pyplot as plt\n",
        "\n",
        "from google.colab import drive\n",
        "\n",
        "from matplotlib.patches import Rectangle, FancyBboxPatch\n",
        "\n",
        "from sklearn.preprocessing import LabelEncoder, StandardScaler\n",
        "from sklearn.decomposition import PCA\n",
        "from sklearn.model_selection import train_test_split, GridSearchCV\n",
        "from sklearn.metrics import accuracy_score\n",
        "\n",
        "from tensorflow.keras.preprocessing.image import ImageDataGenerator\n",
        "from tensorflow.keras.models import Sequential\n",
        "from tensorflow.keras.layers import Conv2D, MaxPooling2D, AveragePooling2D, Flatten, Dense, Dropout, Activation\n",
        "from tensorflow.keras.optimizers import Adam\n",
        "from tensorflow.keras.regularizers import l2\n",
        "\n",
        "from keras_tuner import HyperModel\n",
        "from keras_tuner.tuners import RandomSearch"
      ]
    },
    {
      "cell_type": "code",
      "execution_count": 3,
      "metadata": {
        "colab": {
          "base_uri": "https://localhost:8080/"
        },
        "id": "nlEwMnEKyjfu",
        "outputId": "9addc596-e134-4b66-8775-312bb990aa88"
      },
      "outputs": [
        {
          "output_type": "stream",
          "name": "stdout",
          "text": [
            "Mounted at /content/drive\n"
          ]
        }
      ],
      "source": [
        "drive.mount('/content/drive')\n",
        "image_path = '/content/drive/My Drive/capstone/data/images_original'"
      ]
    },
    {
      "cell_type": "code",
      "execution_count": 4,
      "metadata": {
        "colab": {
          "base_uri": "https://localhost:8080/"
        },
        "id": "hzIb0M_5xDDz",
        "outputId": "940d517a-256e-4c02-edf0-1d68fb2440a1"
      },
      "outputs": [
        {
          "output_type": "stream",
          "name": "stdout",
          "text": [
            "Images shape: (999, 288, 432, 3)\n",
            "Labels shape: (999,)\n"
          ]
        }
      ],
      "source": [
        "images = []\n",
        "labels = []\n",
        "\n",
        "for genre in os.listdir(image_path):\n",
        "    genre_path = os.path.join(image_path, genre)\n",
        "    if os.path.isdir(genre_path):\n",
        "        for filename in os.listdir(genre_path):\n",
        "            if filename.endswith(\".png\"):\n",
        "                file_path = os.path.join(genre_path, filename)\n",
        "                image = cv2.imread(file_path, cv2.IMREAD_UNCHANGED)\n",
        "                if image is not None:\n",
        "                    image = cv2.cvtColor(image, cv2.COLOR_BGR2RGB)\n",
        "                    images.append(image)\n",
        "                    labels.append(genre)\n",
        "                else:\n",
        "                    print(f\"Image {file_path} couldn't be loaded\")\n",
        "\n",
        "X = np.array(images)\n",
        "y = np.array(labels)\n",
        "\n",
        "print(\"Images shape:\", X.shape)\n",
        "print(\"Labels shape:\", y.shape)"
      ]
    },
    {
      "cell_type": "code",
      "execution_count": 5,
      "metadata": {
        "id": "hFi1Y9Lvldsm"
      },
      "outputs": [],
      "source": [
        "# Split data into training and test sets\n",
        "X_train, X_test, y_train, y_test = train_test_split(X, y, test_size=0.2, random_state=42)"
      ]
    },
    {
      "cell_type": "code",
      "execution_count": 6,
      "metadata": {
        "id": "qVGtl0bPlXFB"
      },
      "outputs": [],
      "source": [
        "# Convert categorical labels into numeric values\n",
        "label_encoder = LabelEncoder()\n",
        "y_train = label_encoder.fit_transform(y_train)\n",
        "y_test = label_encoder.transform(y_test)"
      ]
    },
    {
      "cell_type": "code",
      "execution_count": 7,
      "metadata": {
        "id": "zXjr2lO2gKwr"
      },
      "outputs": [],
      "source": [
        "# Apply scaling\n",
        "X_train = X_train / 255.0\n",
        "X_test = X_test / 255.0"
      ]
    },
    {
      "cell_type": "markdown",
      "metadata": {
        "id": "n5VNyip8Tkzn"
      },
      "source": [
        "# Train Models"
      ]
    },
    {
      "cell_type": "markdown",
      "metadata": {
        "id": "xB-EL-TqTQ9H"
      },
      "source": [
        "### Convolutional Neural Network (CNN)"
      ]
    },
    {
      "cell_type": "code",
      "execution_count": null,
      "metadata": {
        "colab": {
          "base_uri": "https://localhost:8080/"
        },
        "id": "-l-y8iK0jfk2",
        "outputId": "8dfb916c-a371-4ed6-ba41-556bef57ade5"
      },
      "outputs": [
        {
          "output_type": "stream",
          "name": "stdout",
          "text": [
            "Trial 10 Complete [00h 01m 55s]\n",
            "val_accuracy: 0.6499999761581421\n",
            "\n",
            "Best val_accuracy So Far: 0.6949999928474426\n",
            "Total elapsed time: 00h 30m 10s\n",
            "7/7 [==============================] - 1s 79ms/step - loss: 0.9642 - accuracy: 0.6950\n"
          ]
        },
        {
          "output_type": "execute_result",
          "data": {
            "text/plain": [
              "[0.9641821384429932, 0.6949999928474426]"
            ]
          },
          "metadata": {},
          "execution_count": 10
        }
      ],
      "source": [
        "input_shape = X_train.shape[1:]\n",
        "num_classes = len(np.unique(y_train))\n",
        "\n",
        "def build_model(hp):\n",
        "    model = Sequential([\n",
        "        Conv2D(filters=hp.Int('conv_1_filter', min_value=32, max_value=128, step=32),\n",
        "               kernel_size=hp.Choice('conv_1_kernel', values=[2, 3]),\n",
        "               activation='relu',\n",
        "               input_shape=input_shape),\n",
        "        MaxPooling2D(2, 2),\n",
        "        Conv2D(filters=hp.Int('conv_2_filter', min_value=64, max_value=128, step=32),\n",
        "               kernel_size=hp.Choice('conv_2_kernel', values=[2, 3]),\n",
        "               activation='relu'),\n",
        "        MaxPooling2D(2, 2),\n",
        "        Conv2D(filters=hp.Int('conv_3_filter', min_value=64, max_value=128, step=32),\n",
        "               kernel_size=hp.Choice('conv_3_kernel', values=[2, 3]),\n",
        "               activation='relu'),\n",
        "        MaxPooling2D(2, 2),\n",
        "        Flatten(),\n",
        "        Dense(units=hp.Int('dense_units', min_value=64, max_value=256, step=64),\n",
        "              activation='relu'),\n",
        "        Dropout(0.5),\n",
        "        Dense(num_classes, activation='softmax')\n",
        "    ])\n",
        "\n",
        "    model.compile(optimizer=Adam(hp.Choice('learning_rate', values=[1e-2, 1e-3, 1e-4])),\n",
        "                  loss='sparse_categorical_crossentropy',\n",
        "                  metrics=['accuracy'])\n",
        "    return model\n",
        "\n",
        "tuner = kt.RandomSearch(build_model,\n",
        "                        objective='val_accuracy',\n",
        "                        max_trials=10,\n",
        "                        executions_per_trial=1,\n",
        "                        directory='my_dir',\n",
        "                        project_name='cnn_tuning')\n",
        "\n",
        "# Train and find best hyperparameters\n",
        "tuner.search(x=X_train, y=y_train,\n",
        "             epochs=20,\n",
        "             validation_data=(X_test, y_test))\n",
        "\n",
        "best_model = tuner.get_best_models(num_models=1)[0]\n",
        "best_model.evaluate(X_test, y_test)"
      ]
    },
    {
      "cell_type": "code",
      "source": [
        "best_hps = tuner.get_best_hyperparameters(num_trials=1)[0]\n",
        "\n",
        "print(f\"Best hyperparameters found:\")\n",
        "print(f\" - Conv_1 filter: {best_hps.get('conv_1_filter')}\")\n",
        "print(f\" - Conv_1 kernel size: {best_hps.get('conv_1_kernel')}\")\n",
        "print(f\" - Conv_2 filter: {best_hps.get('conv_2_filter')}\")\n",
        "print(f\" - Conv_2 kernel size: {best_hps.get('conv_2_kernel')}\")\n",
        "print(f\" - Conv_3 filter: {best_hps.get('conv_3_filter')}\")\n",
        "print(f\" - Conv_3 kernel size: {best_hps.get('conv_3_kernel')}\")\n",
        "print(f\" - Dense units: {best_hps.get('dense_units')}\")\n",
        "print(f\" - Learning rate: {best_hps.get('learning_rate')}\")"
      ],
      "metadata": {
        "colab": {
          "base_uri": "https://localhost:8080/"
        },
        "id": "zudWFcWtf7KS",
        "outputId": "b1e37c80-2f40-409a-95fc-f931aae0968a"
      },
      "execution_count": null,
      "outputs": [
        {
          "output_type": "stream",
          "name": "stdout",
          "text": [
            "Best hyperparameters found:\n",
            " - Conv_1 filter: 96\n",
            " - Conv_1 kernel size: 2\n",
            " - Conv_2 filter: 96\n",
            " - Conv_2 kernel size: 2\n",
            " - Conv_3 filter: 64\n",
            " - Conv_3 kernel size: 3\n",
            " - Dense units: 256\n",
            " - Learning rate: 0.0001\n"
          ]
        }
      ]
    },
    {
      "cell_type": "code",
      "source": [
        "input_shape = X_train.shape[1:]\n",
        "num_classes = len(np.unique(y_train))\n",
        "\n",
        "def draw_cnn():\n",
        "    fig, ax = plt.subplots(figsize=(15, 5))\n",
        "\n",
        "    # Input Layer\n",
        "    input_layer = FancyBboxPatch((0.1, 0.5), 0.1, 0.2, boxstyle=\"round,pad=0.05\", edgecolor=\"black\", facecolor=\"lightgrey\")\n",
        "    ax.add_patch(input_layer)\n",
        "    plt.text(0.15, 0.6, \"Input\\n288x432x3\", ha='center', va='center', fontsize=10)\n",
        "\n",
        "    # First Conv Layer\n",
        "    conv1 = FancyBboxPatch((0.3, 0.4), 0.1, 0.4, boxstyle=\"round,pad=0.05\", edgecolor=\"black\", facecolor=\"mediumpurple\")\n",
        "    ax.add_patch(conv1)\n",
        "    plt.text(0.35, 0.6, \"Conv2D\\n96 filters\\n2x2\", ha='center', va='center', fontsize=10)\n",
        "\n",
        "    # First Pooling Layer\n",
        "    pool1 = FancyBboxPatch((0.5, 0.45), 0.1, 0.3, boxstyle=\"round,pad=0.05\", edgecolor=\"black\", facecolor=\"orange\")\n",
        "    ax.add_patch(pool1)\n",
        "    plt.text(0.55, 0.6, \"MaxPool\\n2x2\", ha='center', va='center', fontsize=10)\n",
        "\n",
        "    # Second Conv Layer\n",
        "    conv2 = FancyBboxPatch((0.7, 0.4), 0.1, 0.4, boxstyle=\"round,pad=0.05\", edgecolor=\"black\", facecolor=\"mediumpurple\")\n",
        "    ax.add_patch(conv2)\n",
        "    plt.text(0.75, 0.6, \"Conv2D\\n96 filters\\n2x2\", ha='center', va='center', fontsize=10)\n",
        "\n",
        "    # Second Pooling Layer\n",
        "    pool2 = FancyBboxPatch((0.9, 0.45), 0.1, 0.3, boxstyle=\"round,pad=0.05\", edgecolor=\"black\", facecolor=\"orange\")\n",
        "    ax.add_patch(pool2)\n",
        "    plt.text(0.95, 0.6, \"MaxPool\\n2x2\", ha='center', va='center', fontsize=10)\n",
        "\n",
        "    # Third Conv Layer\n",
        "    conv3 = FancyBboxPatch((1.1, 0.4), 0.1, 0.4, boxstyle=\"round,pad=0.05\", edgecolor=\"black\", facecolor=\"mediumpurple\")\n",
        "    ax.add_patch(conv3)\n",
        "    plt.text(1.15, 0.6, \"Conv2D\\n64 filters\\n3x3\", ha='center', va='center', fontsize=10)\n",
        "\n",
        "    # Third Pooling Layer\n",
        "    pool3 = FancyBboxPatch((1.3, 0.45), 0.1, 0.3, boxstyle=\"round,pad=0.05\", edgecolor=\"black\", facecolor=\"orange\")\n",
        "    ax.add_patch(pool3)\n",
        "    plt.text(1.35, 0.6, \"MaxPool\\n2x2\", ha='center', va='center', fontsize=10)\n",
        "\n",
        "    # Flatten Layer\n",
        "    flatten = FancyBboxPatch((1.5, 0.5), 0.1, 0.2, boxstyle=\"round,pad=0.05\", edgecolor=\"black\", facecolor=\"orchid\")\n",
        "    ax.add_patch(flatten)\n",
        "    plt.text(1.55, 0.6, \"Flatten\", ha='center', va='center', fontsize=10)\n",
        "\n",
        "    # Dense Layer\n",
        "    dense = FancyBboxPatch((1.7, 0.4), 0.1, 0.4, boxstyle=\"round,pad=0.05\", edgecolor=\"black\", facecolor=\"gold\")\n",
        "    ax.add_patch(dense)\n",
        "    plt.text(1.75, 0.6, \"Dense\\n256 units\", ha='center', va='center', fontsize=10)\n",
        "\n",
        "    # Dropout Layer\n",
        "    dropout = FancyBboxPatch((1.9, 0.4), 0.1, 0.4, boxstyle=\"round,pad=0.05\", edgecolor=\"black\", facecolor=\"lightcoral\")\n",
        "    ax.add_patch(dropout)\n",
        "    plt.text(1.95, 0.6, \"Dropout\\n0.5\", ha='center', va='center', fontsize=10)\n",
        "\n",
        "    # Output Layer\n",
        "    output = FancyBboxPatch((2.1, 0.5), 0.1, 0.2, boxstyle=\"round,pad=0.05\", edgecolor=\"black\", facecolor=\"grey\")\n",
        "    ax.add_patch(output)\n",
        "    plt.text(2.15, 0.6, f\"Output\\n{num_classes} classes\", ha='center', va='center', fontsize=10)\n",
        "\n",
        "    # Connections\n",
        "    for i in range(11):\n",
        "        plt.plot([0.2 + 0.2 * i, 0.3 + 0.2 * i], [0.6, 0.6], 'k-')\n",
        "\n",
        "    ax.set_xlim(0, 2.4)\n",
        "    ax.set_ylim(0, 1)\n",
        "    ax.axis('off')\n",
        "    plt.show()\n",
        "\n",
        "draw_cnn()"
      ],
      "metadata": {
        "colab": {
          "base_uri": "https://localhost:8080/",
          "height": 422
        },
        "id": "o33pfXtxh1oN",
        "outputId": "d693c610-8c26-47bc-b225-a603dd490647"
      },
      "execution_count": null,
      "outputs": [
        {
          "output_type": "display_data",
          "data": {
            "text/plain": [
              "<Figure size 1500x500 with 1 Axes>"
            ],
            "image/png": "[encoded data removed]"
          },
          "metadata": {}
        }
      ]
    }
  ],
  "metadata": {
    "accelerator": "GPU",
    "colab": {
      "gpuType": "T4",
      "provenance": []
    },
    "interpreter": {
      "hash": "aee8b7b246df8f9039afb4144a1f6fd8d2ca17a180786b69acc140d282b71a49"
    },
    "kernelspec": {
      "display_name": "Python 3",
      "name": "python3"
    },
    "language_info": {
      "codemirror_mode": {
        "name": "ipython",
        "version": 3
      },
      "file_extension": ".py",
      "mimetype": "text/x-python",
      "name": "python",
      "nbconvert_exporter": "python",
      "pygments_lexer": "ipython3",
      "version": "3.11.6"
    }
  },
  "nbformat": 4,
  "nbformat_minor": 0
}